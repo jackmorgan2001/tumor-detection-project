{
 "cells": [
  {
   "cell_type": "markdown",
   "id": "f2185d54",
   "metadata": {},
   "source": [
    "# Imports"
   ]
  },
  {
   "cell_type": "code",
   "execution_count": 1,
   "id": "9dd631d5",
   "metadata": {},
   "outputs": [],
   "source": [
    "import os\n",
    "from PIL import Image\n",
    "import pandas as pd\n",
    "from sklearn.model_selection import train_test_split"
   ]
  },
  {
   "cell_type": "markdown",
   "id": "8cc8d384",
   "metadata": {},
   "source": [
    "# Data Loading"
   ]
  },
  {
   "cell_type": "code",
   "execution_count": 2,
   "id": "1dbe272f",
   "metadata": {},
   "outputs": [],
   "source": [
    "def display_image(image_path):\n",
    "    img = Image.open(image_path)\n",
    "    img.show()\n",
    "\n",
    "yes_path = './data/yes'\n",
    "no_path = \"./data/no\""
   ]
  },
  {
   "cell_type": "code",
   "execution_count": 3,
   "id": "c05c0172",
   "metadata": {},
   "outputs": [],
   "source": [
    "def create_dataframe(yes_path, no_path):\n",
    "    # Initialize an empty list to store the data\n",
    "    data = []\n",
    "\n",
    "    # Process 'yes' images\n",
    "    for image in os.listdir(yes_path):\n",
    "        data.append({\n",
    "            \"image_path\": os.path.join(yes_path, image),\n",
    "            \"tumor_present\": \"yes\"\n",
    "        })\n",
    "\n",
    "    # Process 'no' images\n",
    "    for image in os.listdir(no_path):\n",
    "        data.append({\n",
    "            \"image_path\": os.path.join(no_path, image),\n",
    "            \"tumor_present\": \"no\"\n",
    "        })\n",
    "\n",
    "    # Create a DataFrame\n",
    "    df = pd.DataFrame(data)\n",
    "\n",
    "    return df"
   ]
  },
  {
   "cell_type": "markdown",
   "id": "c7c4a9c1",
   "metadata": {},
   "source": [
    "## Train, Test, Validation Splits"
   ]
  },
  {
   "cell_type": "code",
   "execution_count": 4,
   "id": "f228f4ce",
   "metadata": {},
   "outputs": [],
   "source": [
    "def create_train_test_val_splits(df, test_size=0.2, val_size=0.1):\n",
    "\n",
    "    # First, split into training + validation and test sets\n",
    "    train_val_df, test_df = train_test_split(df, test_size=test_size, random_state=42)\n",
    "\n",
    "    # Adjust val_size to compensate for the initial split\n",
    "    adjusted_val_size = val_size / (1 - test_size)\n",
    "\n",
    "    # Then, split the training + validation set into training and validation sets\n",
    "    train_df, val_df = train_test_split(train_val_df, test_size=adjusted_val_size, random_state=42)\n",
    "\n",
    "    return train_df, val_df, test_df"
   ]
  },
  {
   "cell_type": "code",
   "execution_count": 7,
   "id": "9d72b6ad",
   "metadata": {},
   "outputs": [],
   "source": [
    "total_data = create_dataframe(yes_path, no_path)\n",
    "total_data = total_data.sample(frac=1).reset_index(drop=True)"
   ]
  },
  {
   "cell_type": "code",
   "execution_count": 9,
   "id": "c7ba567f",
   "metadata": {},
   "outputs": [
    {
     "name": "stdout",
     "output_type": "stream",
     "text": [
      "Training Set: 2100\n",
      "Validation Set: 300\n",
      "Test Set: 600\n",
      "               image_path tumor_present\n",
      "921   ./data/no/no761.jpg            no\n",
      "339   ./data/yes/y312.jpg           yes\n",
      "1984  ./data/no/no373.jpg            no\n",
      "2439  ./data/no/no555.jpg            no\n",
      "259   ./data/yes/y118.jpg           yes\n"
     ]
    }
   ],
   "source": [
    "# Shuffle and split the data\n",
    "train_data, val_data, test_data = create_train_test_val_splits(total_data)\n",
    "\n",
    "# Display the sizes of each set\n",
    "print(f\"Training Set: {len(train_data)}\")\n",
    "print(f\"Validation Set: {len(val_data)}\")\n",
    "print(f\"Test Set: {len(test_data)}\")\n",
    "\n",
    "print(train_data.head())"
   ]
  },
  {
   "cell_type": "code",
   "execution_count": null,
   "id": "d23793d2",
   "metadata": {},
   "outputs": [],
   "source": [
    "display_image(os.path.join(yes_path, yes_images[0]))"
   ]
  }
 ],
 "metadata": {
  "kernelspec": {
   "display_name": "Python 3 (ipykernel)",
   "language": "python",
   "name": "python3"
  },
  "language_info": {
   "codemirror_mode": {
    "name": "ipython",
    "version": 3
   },
   "file_extension": ".py",
   "mimetype": "text/x-python",
   "name": "python",
   "nbconvert_exporter": "python",
   "pygments_lexer": "ipython3",
   "version": "3.11.4"
  }
 },
 "nbformat": 4,
 "nbformat_minor": 5
}
