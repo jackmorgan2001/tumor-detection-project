{
 "cells": [
  {
   "cell_type": "markdown",
   "id": "f2185d54",
   "metadata": {},
   "source": [
    "# Imports"
   ]
  },
  {
   "cell_type": "code",
   "execution_count": 1,
   "id": "9dd631d5",
   "metadata": {},
   "outputs": [],
   "source": [
    "import os\n",
    "from PIL import Image\n",
    "import pandas as pd\n",
    "import numpy as np\n",
    "from sklearn.model_selection import train_test_split\n",
    "import tensorflow as tf\n",
    "from tensorflow.keras.models import Sequential\n",
    "from tensorflow.keras.layers import Conv2D, MaxPooling2D, Flatten, Dense, Dropout\n",
    "from tensorflow.keras.preprocessing.image import ImageDataGenerator\n",
    "from sklearn.model_selection import train_test_split"
   ]
  },
  {
   "cell_type": "markdown",
   "id": "8cc8d384",
   "metadata": {},
   "source": [
    "# Data Loading"
   ]
  },
  {
   "cell_type": "code",
   "execution_count": 2,
   "id": "1dbe272f",
   "metadata": {},
   "outputs": [],
   "source": [
    "def display_image(image_path):\n",
    "    img = Image.open(image_path)\n",
    "    img.show()\n",
    "\n",
    "yes_path = './data/yes'\n",
    "no_path = \"./data/no\""
   ]
  },
  {
   "cell_type": "code",
   "execution_count": 3,
   "id": "c05c0172",
   "metadata": {},
   "outputs": [],
   "source": [
    "def create_dataframe(yes_path, no_path):\n",
    "    # Initialize an empty list to store the data\n",
    "    data = []\n",
    "\n",
    "    # Process 'yes' images\n",
    "    for image in os.listdir(yes_path):\n",
    "        data.append({\n",
    "            \"image_path\": os.path.join(yes_path, image),\n",
    "            \"tumor_present\": \"yes\"\n",
    "        })\n",
    "\n",
    "    # Process 'no' images\n",
    "    for image in os.listdir(no_path):\n",
    "        data.append({\n",
    "            \"image_path\": os.path.join(no_path, image),\n",
    "            \"tumor_present\": \"no\"\n",
    "        })\n",
    "\n",
    "    # Create a DataFrame\n",
    "    df = pd.DataFrame(data)\n",
    "\n",
    "    return df"
   ]
  },
  {
   "cell_type": "markdown",
   "id": "c7c4a9c1",
   "metadata": {},
   "source": [
    "## Train, Test, Validation Splits"
   ]
  },
  {
   "cell_type": "code",
   "execution_count": 4,
   "id": "f228f4ce",
   "metadata": {},
   "outputs": [],
   "source": [
    "def create_train_test_val_splits(df, test_size=0.2, val_size=0.1):\n",
    "\n",
    "    # First, split into training + validation and test sets\n",
    "    train_val_df, test_df = train_test_split(df, test_size=test_size, random_state=42)\n",
    "\n",
    "    # Adjust val_size to compensate for the initial split\n",
    "    adjusted_val_size = val_size / (1 - test_size)\n",
    "\n",
    "    # Then, split the training + validation set into training and validation sets\n",
    "    train_df, val_df = train_test_split(train_val_df, test_size=adjusted_val_size, random_state=42)\n",
    "\n",
    "    return train_df, val_df, test_df"
   ]
  },
  {
   "cell_type": "code",
   "execution_count": 7,
   "id": "9d72b6ad",
   "metadata": {},
   "outputs": [],
   "source": [
    "total_data = create_dataframe(yes_path, no_path)\n",
    "total_data = total_data.sample(frac=1).reset_index(drop=True)"
   ]
  },
  {
   "cell_type": "code",
   "execution_count": 9,
   "id": "c7ba567f",
   "metadata": {},
   "outputs": [
    {
     "name": "stdout",
     "output_type": "stream",
     "text": [
      "Training Set: 2100\n",
      "Validation Set: 300\n",
      "Test Set: 600\n",
      "               image_path tumor_present\n",
      "921   ./data/no/no761.jpg            no\n",
      "339   ./data/yes/y312.jpg           yes\n",
      "1984  ./data/no/no373.jpg            no\n",
      "2439  ./data/no/no555.jpg            no\n",
      "259   ./data/yes/y118.jpg           yes\n"
     ]
    }
   ],
   "source": [
    "# Shuffle and split the data\n",
    "train_data, val_data, test_data = create_train_test_val_splits(total_data)\n",
    "\n",
    "# Display the sizes of each set\n",
    "print(f\"Training Set: {len(train_data)}\")\n",
    "print(f\"Validation Set: {len(val_data)}\")\n",
    "print(f\"Test Set: {len(test_data)}\")\n",
    "\n",
    "print(train_data.head())"
   ]
  },
  {
   "cell_type": "markdown",
   "id": "32b1f903",
   "metadata": {},
   "source": [
    "using this to guide creation of the CNN: https://www.analyticsvidhya.com/blog/2021/01/image-classification-using-convolutional-neural-networks-a-step-by-step-guide/"
   ]
  },
  {
   "cell_type": "markdown",
   "id": "fceab126",
   "metadata": {},
   "source": [
    "# Make images the same size and normalize"
   ]
  },
  {
   "cell_type": "code",
   "execution_count": null,
   "id": "9fd747e9",
   "metadata": {},
   "outputs": [],
   "source": [
    "from PIL import Image, ImageOps\n",
    "import numpy as np\n",
    "\n",
    "# Global counter for images that are excluded\n",
    "excluded_images_count = 0\n",
    "all_images = 0\n",
    "\n",
    "def preprocess_image(image_path, target_size):\n",
    "    global excluded_images_count\n",
    "    global all_images\n",
    "    all_images += 1\n",
    "\n",
    "    try:\n",
    "        img = Image.open(image_path)\n",
    "        img = ImageOps.fit(img, target_size, Image.Resampling.LANCZOS)  # Resizing with LANCZOS\n",
    "        img = np.array(img)\n",
    "        if img.shape != (target_size[0], target_size[1], 3):  # Check if image has three color channels\n",
    "            excluded_images_count += 1\n",
    "            return None\n",
    "        img = img / 255.0  # Normalize pixel values\n",
    "        return img\n",
    "    except Exception as e:\n",
    "        print(f\"Error processing image {image_path}: {e}\")\n",
    "        excluded_images_count += 1\n",
    "        return None\n",
    "\n",
    "def encode_label(label):\n",
    "    return 1 if label == 'yes' else 0\n",
    "\n",
    "def prepare_dataset(df, target_size=(224, 224)):\n",
    "    images = df['image_path'].apply(lambda x: preprocess_image(x, target_size)).dropna()\n",
    "    labels = df['tumor_present'][images.index].apply(encode_label)  # Align labels with images\n",
    "    return np.array(images.tolist()), np.array(labels)"
   ]
  },
  {
   "cell_type": "code",
   "execution_count": null,
   "id": "b11ac32d",
   "metadata": {},
   "outputs": [],
   "source": [
    "#Function to visualize some sample images\n",
    "import matplotlib.pyplot as plt\n",
    "\n",
    "def show_sample_images(data, preprocess_func, num_images=5):\n",
    "    plt.figure(figsize=(10, 10))\n",
    "    for i in range(num_images):\n",
    "        ax = plt.subplot(1, num_images, i + 1)\n",
    "        img = preprocess_func(data.iloc[i]['image_path'], (224, 224))\n",
    "        plt.imshow(img)\n",
    "        plt.title(data.iloc[i]['tumor_present'])\n",
    "        plt.axis(\"off\")"
   ]
  },
  {
   "cell_type": "markdown",
   "id": "97ca4289",
   "metadata": {},
   "source": [
    "# Prepare Data and Visualize some samples"
   ]
  },
  {
   "cell_type": "code",
   "execution_count": null,
   "id": "5dc4cfae",
   "metadata": {},
   "outputs": [],
   "source": [
    "X_train, y_train = prepare_dataset(train_data)\n",
    "X_val, y_val = prepare_dataset(val_data)\n",
    "X_test, y_test = prepare_dataset(test_data)\n",
    "\n",
    "show_sample_images(train_data, preprocess_image)\n",
    "\n",
    "\n",
    "print(f\"Total images excluded: {excluded_images_count}\")\n",
    "print(f\"all images : {all_images}\")"
   ]
  },
  {
   "cell_type": "markdown",
   "id": "8313aa50",
   "metadata": {},
   "source": [
    "# Custom Model"
   ]
  },
  {
   "cell_type": "code",
   "execution_count": null,
   "id": "e0a69fd4",
   "metadata": {},
   "outputs": [],
   "source": [
    "model = tf.keras.Sequential([\n",
    "    tf.keras.layers.Conv2D(32, (3, 3), padding='same', activation=tf.nn.relu, input_shape=(224, 224, 3)),  # Adjusted input shape\n",
    "    tf.keras.layers.MaxPooling2D((2, 2), strides=2),\n",
    "    tf.keras.layers.Conv2D(32, (3, 3), padding='same', activation=tf.nn.relu),\n",
    "    tf.keras.layers.MaxPooling2D((2, 2), strides=2),\n",
    "    tf.keras.layers.Dropout(0.5),\n",
    "    tf.keras.layers.Flatten(),\n",
    "    tf.keras.layers.Dense(128, activation=tf.nn.relu),\n",
    "    tf.keras.layers.Dense(1, activation='sigmoid')\n",
    "])\n",
    "\n",
    "# Model Compilation\n",
    "model.compile(optimizer='adam', loss='binary_crossentropy', metrics=['accuracy'])\n",
    "\n",
    "# Model Training using Validation Data\n",
    "history = model.fit(X_train, y_train, batch_size=16, epochs=5, verbose=1, validation_data=(X_val, y_val))\n",
    "\n",
    "plt.figure(figsize=(12, 4))\n",
    "plt.subplot(1, 2, 1)\n",
    "plt.plot(history.history['accuracy'], label='Training Accuracy')\n",
    "plt.plot(history.history['val_accuracy'], label='Validation Accuracy')\n",
    "plt.legend()\n",
    "plt.title('Accuracy over Epochs')\n",
    "\n",
    "plt.subplot(1, 2, 2)\n",
    "plt.plot(history.history['loss'], label='Training Loss')\n",
    "plt.plot(history.history['val_loss'], label='Validation Loss')\n",
    "plt.legend()\n",
    "plt.title('Loss over Epochs')"
   ]
  },
  {
   "cell_type": "markdown",
   "id": "43238ebc",
   "metadata": {},
   "source": [
    "# Visualize Model"
   ]
  },
  {
   "cell_type": "code",
   "execution_count": null,
   "id": "4c24133d",
   "metadata": {},
   "outputs": [],
   "source": [
    "conv_layers = [layer for layer in model.layers if isinstance(layer, tf.keras.layers.Conv2D)]\n",
    "\n",
    "for layer in conv_layers:\n",
    "    filters, biases = layer.get_weights()\n",
    "    f_min, f_max = filters.min(), filters.max()\n",
    "    filters = (filters - f_min) / (f_max - f_min)  # normalize filter values\n",
    "    # visualize first few filters\n",
    "    n_filters = 6\n",
    "    ix = 1\n",
    "    plt.figure(figsize=(8, 8))\n",
    "    for i in range(n_filters):\n",
    "        f = filters[:, :, :, i]\n",
    "        for j in range(3):  # there are 3 channels\n",
    "            ax = plt.subplot(n_filters, 3, ix)\n",
    "            ax.set_xticks([])\n",
    "            ax.set_yticks([])\n",
    "            plt.imshow(f[:, :, j], cmap='gray')\n",
    "            ix += 1\n",
    "    plt.show()\n"
   ]
  },
  {
   "cell_type": "code",
   "execution_count": null,
   "id": "e0635577",
   "metadata": {},
   "outputs": [],
   "source": [
    "#Model Interpretability with Grad-CAM (uses weights of the trained model to genreate heatmaps)\n",
    "\n",
    "import matplotlib.cm as cm\n",
    "from tf_keras_vis.gradcam import Gradcam\n",
    "from tf_keras_vis.utils import normalize\n",
    "\n",
    "def make_gradcam_heatmap(img_array, model, last_conv_layer_name, pred_index=None):\n",
    "    gradcam = Gradcam(model, model_modifier=None, clone=False)\n",
    "    cam = gradcam(\n",
    "        lambda output: output[pred_index] if pred_index else output,\n",
    "        img_array,\n",
    "        penultimate_layer=-1,\n",
    "    )\n",
    "    heatmap = normalize(cam)\n",
    "    return heatmap\n",
    "\n",
    "# Show original image and heatmap image for 5 images\n",
    "image_paths = [\n",
    "    './data/yes/y1471.jpg',\n",
    "    './data/yes/y1434.jpg',\n",
    "    './data/yes/y624.jpg',\n",
    "    './data/yes/y392.jpg',\n",
    "    './data/no/no1094.jpg'\n",
    "]\n",
    "\n",
    "import matplotlib.pyplot as plt\n",
    "\n",
    "def show_images_with_heatmaps(image_paths, model, preprocess_func, last_conv_layer_name):\n",
    "    plt.figure(figsize=(10, 10))\n",
    "\n",
    "    for i, image_path in enumerate(image_paths):\n",
    "        # Original image\n",
    "        original_img = preprocess_func(image_path, (224, 224))\n",
    "        ax = plt.subplot(5, 2, 2 * i + 1)\n",
    "        plt.imshow(original_img)\n",
    "        plt.title(f\"Original - {image_path.split('/')[-1]}\")\n",
    "        plt.axis('off')\n",
    "\n",
    "        img_array = np.array([original_img])\n",
    "        heatmap = make_gradcam_heatmap(img_array, model, last_conv_layer_name)\n",
    "        ax = plt.subplot(5, 2, 2 * i + 2)\n",
    "        plt.imshow(original_img)\n",
    "        plt.imshow(heatmap.squeeze(), cmap='jet', alpha=0.5)  \n",
    "        plt.title(\"Heatmap\")\n",
    "        plt.axis('off')\n",
    "\n",
    "    plt.tight_layout()\n",
    "    plt.show()\n",
    "\n",
    "\n",
    "show_images_with_heatmaps(image_paths, model, preprocess_image, 3)\n"
   ]
  },
  {
   "cell_type": "code",
   "execution_count": null,
   "id": "2605a938",
   "metadata": {},
   "outputs": [],
   "source": [
    "test_loss, test_accuracy = model.evaluate(X_test, y_test)\n",
    "print(f\"Test Loss: {test_loss}\")\n",
    "print(f\"Test Accuracy: {test_accuracy}\")"
   ]
  }
 ],
 "metadata": {
  "kernelspec": {
   "display_name": "Python 3 (ipykernel)",
   "language": "python",
   "name": "python3"
  },
  "language_info": {
   "codemirror_mode": {
    "name": "ipython",
    "version": 3
   },
   "file_extension": ".py",
   "mimetype": "text/x-python",
   "name": "python",
   "nbconvert_exporter": "python",
   "pygments_lexer": "ipython3",
   "version": "3.11.4"
  }
 },
 "nbformat": 4,
 "nbformat_minor": 5
}
