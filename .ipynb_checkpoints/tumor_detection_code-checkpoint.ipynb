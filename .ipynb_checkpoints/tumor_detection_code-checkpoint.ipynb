{
 "cells": [
  {
   "cell_type": "markdown",
   "id": "f2185d54",
   "metadata": {},
   "source": [
    "# Imports"
   ]
  },
  {
   "cell_type": "code",
   "execution_count": 1,
   "id": "9dd631d5",
   "metadata": {},
   "outputs": [
    {
     "name": "stderr",
     "output_type": "stream",
     "text": [
      "2023-11-12 19:44:08.855075: I tensorflow/core/platform/cpu_feature_guard.cc:182] This TensorFlow binary is optimized to use available CPU instructions in performance-critical operations.\n",
      "To enable the following instructions: AVX2 AVX512F AVX512_VNNI FMA, in other operations, rebuild TensorFlow with the appropriate compiler flags.\n"
     ]
    }
   ],
   "source": [
    "import os\n",
    "from PIL import Image\n",
    "import pandas as pd\n",
    "import numpy as np\n",
    "from sklearn.model_selection import train_test_split\n",
    "import tensorflow as tf\n",
    "from tensorflow.keras.models import Sequential\n",
    "from tensorflow.keras.layers import Conv2D, MaxPooling2D, Flatten, Dense, Dropout\n",
    "from tensorflow.keras.preprocessing.image import ImageDataGenerator\n",
    "from sklearn.model_selection import train_test_split"
   ]
  },
  {
   "cell_type": "markdown",
   "id": "8cc8d384",
   "metadata": {},
   "source": [
    "# Data Loading"
   ]
  },
  {
   "cell_type": "code",
   "execution_count": 2,
   "id": "1dbe272f",
   "metadata": {},
   "outputs": [],
   "source": [
    "def display_image(image_path):\n",
    "    img = Image.open(image_path)\n",
    "    img.show()\n",
    "\n",
    "yes_path = './data/yes'\n",
    "no_path = \"./data/no\""
   ]
  },
  {
   "cell_type": "code",
   "execution_count": 3,
   "id": "c05c0172",
   "metadata": {},
   "outputs": [],
   "source": [
    "def create_dataframe(yes_path, no_path):\n",
    "    # Initialize an empty list to store the data\n",
    "    data = []\n",
    "\n",
    "    # Process 'yes' images\n",
    "    for image in os.listdir(yes_path):\n",
    "        data.append({\n",
    "            \"image_path\": os.path.join(yes_path, image),\n",
    "            \"tumor_present\": \"yes\"\n",
    "        })\n",
    "\n",
    "    # Process 'no' images\n",
    "    for image in os.listdir(no_path):\n",
    "        data.append({\n",
    "            \"image_path\": os.path.join(no_path, image),\n",
    "            \"tumor_present\": \"no\"\n",
    "        })\n",
    "\n",
    "    # Create a DataFrame\n",
    "    df = pd.DataFrame(data)\n",
    "\n",
    "    return df"
   ]
  },
  {
   "cell_type": "markdown",
   "id": "c7c4a9c1",
   "metadata": {},
   "source": [
    "## Train, Test, Validation Splits"
   ]
  },
  {
   "cell_type": "code",
   "execution_count": 4,
   "id": "f228f4ce",
   "metadata": {},
   "outputs": [],
   "source": [
    "def create_train_test_val_splits(df, test_size=0.2, val_size=0.1):\n",
    "\n",
    "    # First, split into training + validation and test sets\n",
    "    train_val_df, test_df = train_test_split(df, test_size=test_size, random_state=42)\n",
    "\n",
    "    # Adjust val_size to compensate for the initial split\n",
    "    adjusted_val_size = val_size / (1 - test_size)\n",
    "\n",
    "    # Then, split the training + validation set into training and validation sets\n",
    "    train_df, val_df = train_test_split(train_val_df, test_size=adjusted_val_size, random_state=42)\n",
    "\n",
    "    return train_df, val_df, test_df"
   ]
  },
  {
   "cell_type": "code",
   "execution_count": 5,
   "id": "9d72b6ad",
   "metadata": {},
   "outputs": [],
   "source": [
    "total_data = create_dataframe(yes_path, no_path)\n",
    "total_data = total_data.sample(frac=1).reset_index(drop=True)"
   ]
  },
  {
   "cell_type": "code",
   "execution_count": 6,
   "id": "c7ba567f",
   "metadata": {},
   "outputs": [
    {
     "name": "stdout",
     "output_type": "stream",
     "text": [
      "Training Set: 2100\n",
      "Validation Set: 300\n",
      "Test Set: 600\n",
      "                image_path tumor_present\n",
      "921   ./data/no/no1083.jpg            no\n",
      "339    ./data/yes/y587.jpg           yes\n",
      "1984   ./data/yes/y932.jpg           yes\n",
      "2439   ./data/yes/y944.jpg           yes\n",
      "259    ./data/no/no838.jpg            no\n"
     ]
    }
   ],
   "source": [
    "# Shuffle and split the data\n",
    "train_data, val_data, test_data = create_train_test_val_splits(total_data)\n",
    "\n",
    "# Display the sizes of each set\n",
    "print(f\"Training Set: {len(train_data)}\")\n",
    "print(f\"Validation Set: {len(val_data)}\")\n",
    "print(f\"Test Set: {len(test_data)}\")\n",
    "\n",
    "print(train_data.head())"
   ]
  },
  {
   "cell_type": "markdown",
   "id": "82e9b6ff",
   "metadata": {},
   "source": [
    "using this to guide creation of the CNN: https://www.analyticsvidhya.com/blog/2021/01/image-classification-using-convolutional-neural-networks-a-step-by-step-guide/"
   ]
  },
  {
   "cell_type": "code",
   "execution_count": 7,
   "id": "4e672f36",
   "metadata": {},
   "outputs": [],
   "source": [
    "#Make images the same size and normalize"
   ]
  },
  {
   "cell_type": "code",
   "execution_count": 10,
   "id": "c8407797",
   "metadata": {},
   "outputs": [],
   "source": [
    "from PIL import Image, ImageOps\n",
    "import numpy as np\n",
    "\n",
    "# Global counter for images that are excluded\n",
    "excluded_images_count = 0\n",
    "all_images = 0\n",
    "\n",
    "def preprocess_image(image_path, target_size):\n",
    "    global excluded_images_count\n",
    "    global all_images\n",
    "    all_images += 1\n",
    "\n",
    "    try:\n",
    "        img = Image.open(image_path)\n",
    "        img = ImageOps.fit(img, target_size, Image.Resampling.LANCZOS)  # Resizing with LANCZOS\n",
    "        img = np.array(img)\n",
    "        if img.shape != (target_size[0], target_size[1], 3):  # Check if image has three color channels\n",
    "            excluded_images_count += 1\n",
    "            return None\n",
    "        img = img / 255.0  # Normalize pixel values\n",
    "        return img\n",
    "    except Exception as e:\n",
    "        print(f\"Error processing image {image_path}: {e}\")\n",
    "        excluded_images_count += 1\n",
    "        return None\n",
    "\n",
    "def encode_label(label):\n",
    "    return 1 if label == 'yes' else 0\n",
    "\n",
    "def prepare_dataset(df, target_size=(224, 224)):\n",
    "    images = df['image_path'].apply(lambda x: preprocess_image(x, target_size)).dropna()\n",
    "    labels = df['tumor_present'][images.index].apply(encode_label)  # Align labels with images\n",
    "    return np.array(images.tolist()), np.array(labels)"
   ]
  },
  {
   "cell_type": "code",
   "execution_count": 12,
   "id": "b1a00542",
   "metadata": {
    "scrolled": true
   },
   "outputs": [
    {
     "name": "stdout",
     "output_type": "stream",
     "text": [
      "Total images excluded: 218\n",
      "all images : 6000\n"
     ]
    }
   ],
   "source": [
    "X_train, y_train = prepare_dataset(train_data)\n",
    "X_val, y_val = prepare_dataset(val_data)\n",
    "X_test, y_test = prepare_dataset(test_data)\n",
    "\n",
    "print(f\"Total images excluded: {excluded_images_count}\")\n",
    "print(f\"all images : {all_images}\")"
   ]
  },
  {
   "cell_type": "code",
   "execution_count": 13,
   "id": "844e1a43",
   "metadata": {},
   "outputs": [
    {
     "name": "stdout",
     "output_type": "stream",
     "text": [
      "Epoch 1/5\n",
      "127/127 [==============================] - 48s 372ms/step - loss: 0.5794 - accuracy: 0.7587 - val_loss: 0.3608 - val_accuracy: 0.8955\n",
      "Epoch 2/5\n",
      "127/127 [==============================] - 50s 394ms/step - loss: 0.2267 - accuracy: 0.9179 - val_loss: 0.1611 - val_accuracy: 0.9338\n",
      "Epoch 3/5\n",
      "127/127 [==============================] - 45s 353ms/step - loss: 0.0831 - accuracy: 0.9718 - val_loss: 0.0850 - val_accuracy: 0.9652\n",
      "Epoch 4/5\n",
      "127/127 [==============================] - 45s 356ms/step - loss: 0.0373 - accuracy: 0.9886 - val_loss: 0.0732 - val_accuracy: 0.9791\n",
      "Epoch 5/5\n",
      "127/127 [==============================] - 44s 343ms/step - loss: 0.0320 - accuracy: 0.9896 - val_loss: 0.1056 - val_accuracy: 0.9686\n"
     ]
    },
    {
     "data": {
      "text/plain": [
       "<keras.src.callbacks.History at 0x144e93350>"
      ]
     },
     "execution_count": 13,
     "metadata": {},
     "output_type": "execute_result"
    }
   ],
   "source": [
    "model = tf.keras.Sequential([\n",
    "    tf.keras.layers.Conv2D(32, (3, 3), padding='same', activation=tf.nn.relu, input_shape=(224, 224, 3)),  # Adjusted input shape\n",
    "    tf.keras.layers.MaxPooling2D((2, 2), strides=2),\n",
    "    tf.keras.layers.Conv2D(32, (3, 3), padding='same', activation=tf.nn.relu),\n",
    "    tf.keras.layers.MaxPooling2D((2, 2), strides=2),\n",
    "    tf.keras.layers.Dropout(0.5),\n",
    "    tf.keras.layers.Flatten(),\n",
    "    tf.keras.layers.Dense(128, activation=tf.nn.relu),\n",
    "    tf.keras.layers.Dense(1, activation='sigmoid')\n",
    "])\n",
    "\n",
    "# Model Compilation\n",
    "model.compile(optimizer='adam', loss='binary_crossentropy', metrics=['accuracy'])\n",
    "\n",
    "# Model Training using Validation Data\n",
    "model.fit(X_train, y_train, batch_size=16, epochs=5, verbose=1, validation_data=(X_val, y_val))  # Using validation set for validation"
   ]
  },
  {
   "cell_type": "code",
   "execution_count": 14,
   "id": "66e2b199",
   "metadata": {},
   "outputs": [
    {
     "name": "stdout",
     "output_type": "stream",
     "text": [
      "19/19 [==============================] - 3s 138ms/step - loss: 0.0759 - accuracy: 0.9708\n",
      "Test Loss: 0.07588119059801102\n",
      "Test Accuracy: 0.9707903861999512\n"
     ]
    }
   ],
   "source": [
    "test_loss, test_accuracy = model.evaluate(X_test, y_test)\n",
    "print(f\"Test Loss: {test_loss}\")\n",
    "print(f\"Test Accuracy: {test_accuracy}\")"
   ]
  }
 ],
 "metadata": {
  "kernelspec": {
   "display_name": "Python 3 (ipykernel)",
   "language": "python",
   "name": "python3"
  },
  "language_info": {
   "codemirror_mode": {
    "name": "ipython",
    "version": 3
   },
   "file_extension": ".py",
   "mimetype": "text/x-python",
   "name": "python",
   "nbconvert_exporter": "python",
   "pygments_lexer": "ipython3",
   "version": "3.11.4"
  }
 },
 "nbformat": 4,
 "nbformat_minor": 5
}
